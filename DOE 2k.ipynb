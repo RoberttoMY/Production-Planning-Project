{
 "cells": [
  {
   "cell_type": "code",
   "execution_count": 1,
   "metadata": {},
   "outputs": [],
   "source": [
    "import numpy as np\n",
    "import pandas as pd\n",
    "import matplotlib.pyplot as plt\n",
    "import seaborn as sns\n",
    "import math\n",
    "from scipy.stats import t as t_student\n",
    "from scipy.stats import norm\n",
    "import statsmodels.api as ss\n",
    "from statsmodels.formula.api import ols\n",
    "from statsmodels.stats.anova import anova_lm\n",
    "from statsmodels.graphics.factorplots import interaction_plot\n",
    "from  statsmodels.stats.multicomp import pairwise_tukeyhsd"
   ]
  },
  {
   "cell_type": "code",
   "execution_count": 2,
   "metadata": {},
   "outputs": [
    {
     "data": {
      "text/html": [
       "<div>\n",
       "<style scoped>\n",
       "    .dataframe tbody tr th:only-of-type {\n",
       "        vertical-align: middle;\n",
       "    }\n",
       "\n",
       "    .dataframe tbody tr th {\n",
       "        vertical-align: top;\n",
       "    }\n",
       "\n",
       "    .dataframe thead th {\n",
       "        text-align: right;\n",
       "    }\n",
       "</style>\n",
       "<table border=\"1\" class=\"dataframe\">\n",
       "  <thead>\n",
       "    <tr style=\"text-align: right;\">\n",
       "      <th></th>\n",
       "      <th>function</th>\n",
       "      <th>size</th>\n",
       "      <th>clusters</th>\n",
       "      <th>model</th>\n",
       "      <th>type_model</th>\n",
       "      <th>observation</th>\n",
       "      <th>objective</th>\n",
       "      <th>runtime</th>\n",
       "      <th>infactible</th>\n",
       "    </tr>\n",
       "  </thead>\n",
       "  <tbody>\n",
       "    <tr>\n",
       "      <th>0</th>\n",
       "      <td>f1</td>\n",
       "      <td>15</td>\n",
       "      <td>100</td>\n",
       "      <td>1</td>\n",
       "      <td>base_model</td>\n",
       "      <td>1</td>\n",
       "      <td>7.193815e+06</td>\n",
       "      <td>74.407009</td>\n",
       "      <td>False</td>\n",
       "    </tr>\n",
       "    <tr>\n",
       "      <th>1</th>\n",
       "      <td>f1</td>\n",
       "      <td>15</td>\n",
       "      <td>100</td>\n",
       "      <td>1</td>\n",
       "      <td>cluster_model</td>\n",
       "      <td>1</td>\n",
       "      <td>6.232796e+06</td>\n",
       "      <td>5.172998</td>\n",
       "      <td>False</td>\n",
       "    </tr>\n",
       "    <tr>\n",
       "      <th>2</th>\n",
       "      <td>f1</td>\n",
       "      <td>15</td>\n",
       "      <td>149</td>\n",
       "      <td>2</td>\n",
       "      <td>base_model</td>\n",
       "      <td>1</td>\n",
       "      <td>7.193815e+06</td>\n",
       "      <td>74.834293</td>\n",
       "      <td>False</td>\n",
       "    </tr>\n",
       "    <tr>\n",
       "      <th>3</th>\n",
       "      <td>f1</td>\n",
       "      <td>15</td>\n",
       "      <td>149</td>\n",
       "      <td>2</td>\n",
       "      <td>cluster_model</td>\n",
       "      <td>1</td>\n",
       "      <td>7.193815e+06</td>\n",
       "      <td>18.878010</td>\n",
       "      <td>False</td>\n",
       "    </tr>\n",
       "    <tr>\n",
       "      <th>4</th>\n",
       "      <td>f1</td>\n",
       "      <td>20</td>\n",
       "      <td>100</td>\n",
       "      <td>3</td>\n",
       "      <td>base_model</td>\n",
       "      <td>1</td>\n",
       "      <td>9.100126e+06</td>\n",
       "      <td>320.069836</td>\n",
       "      <td>False</td>\n",
       "    </tr>\n",
       "    <tr>\n",
       "      <th>...</th>\n",
       "      <td>...</td>\n",
       "      <td>...</td>\n",
       "      <td>...</td>\n",
       "      <td>...</td>\n",
       "      <td>...</td>\n",
       "      <td>...</td>\n",
       "      <td>...</td>\n",
       "      <td>...</td>\n",
       "      <td>...</td>\n",
       "    </tr>\n",
       "    <tr>\n",
       "      <th>75</th>\n",
       "      <td>f2</td>\n",
       "      <td>15</td>\n",
       "      <td>149</td>\n",
       "      <td>6</td>\n",
       "      <td>cluster_model</td>\n",
       "      <td>5</td>\n",
       "      <td>2.726945e+06</td>\n",
       "      <td>11.704002</td>\n",
       "      <td>False</td>\n",
       "    </tr>\n",
       "    <tr>\n",
       "      <th>76</th>\n",
       "      <td>f2</td>\n",
       "      <td>20</td>\n",
       "      <td>100</td>\n",
       "      <td>7</td>\n",
       "      <td>base_model</td>\n",
       "      <td>5</td>\n",
       "      <td>5.091297e+06</td>\n",
       "      <td>73.045771</td>\n",
       "      <td>False</td>\n",
       "    </tr>\n",
       "    <tr>\n",
       "      <th>77</th>\n",
       "      <td>f2</td>\n",
       "      <td>20</td>\n",
       "      <td>100</td>\n",
       "      <td>7</td>\n",
       "      <td>cluster_model</td>\n",
       "      <td>5</td>\n",
       "      <td>8.368370e+06</td>\n",
       "      <td>4.468000</td>\n",
       "      <td>False</td>\n",
       "    </tr>\n",
       "    <tr>\n",
       "      <th>78</th>\n",
       "      <td>f2</td>\n",
       "      <td>20</td>\n",
       "      <td>149</td>\n",
       "      <td>8</td>\n",
       "      <td>base_model</td>\n",
       "      <td>5</td>\n",
       "      <td>5.091297e+06</td>\n",
       "      <td>73.137030</td>\n",
       "      <td>False</td>\n",
       "    </tr>\n",
       "    <tr>\n",
       "      <th>79</th>\n",
       "      <td>f2</td>\n",
       "      <td>20</td>\n",
       "      <td>149</td>\n",
       "      <td>8</td>\n",
       "      <td>cluster_model</td>\n",
       "      <td>5</td>\n",
       "      <td>8.559939e+06</td>\n",
       "      <td>15.835007</td>\n",
       "      <td>False</td>\n",
       "    </tr>\n",
       "  </tbody>\n",
       "</table>\n",
       "<p>80 rows × 9 columns</p>\n",
       "</div>"
      ],
      "text/plain": [
       "   function  size  clusters  model     type_model  observation     objective  \\\n",
       "0        f1    15       100      1     base_model            1  7.193815e+06   \n",
       "1        f1    15       100      1  cluster_model            1  6.232796e+06   \n",
       "2        f1    15       149      2     base_model            1  7.193815e+06   \n",
       "3        f1    15       149      2  cluster_model            1  7.193815e+06   \n",
       "4        f1    20       100      3     base_model            1  9.100126e+06   \n",
       "..      ...   ...       ...    ...            ...          ...           ...   \n",
       "75       f2    15       149      6  cluster_model            5  2.726945e+06   \n",
       "76       f2    20       100      7     base_model            5  5.091297e+06   \n",
       "77       f2    20       100      7  cluster_model            5  8.368370e+06   \n",
       "78       f2    20       149      8     base_model            5  5.091297e+06   \n",
       "79       f2    20       149      8  cluster_model            5  8.559939e+06   \n",
       "\n",
       "       runtime  infactible  \n",
       "0    74.407009       False  \n",
       "1     5.172998       False  \n",
       "2    74.834293       False  \n",
       "3    18.878010       False  \n",
       "4   320.069836       False  \n",
       "..         ...         ...  \n",
       "75   11.704002       False  \n",
       "76   73.045771       False  \n",
       "77    4.468000       False  \n",
       "78   73.137030       False  \n",
       "79   15.835007       False  \n",
       "\n",
       "[80 rows x 9 columns]"
      ]
     },
     "execution_count": 2,
     "metadata": {},
     "output_type": "execute_result"
    }
   ],
   "source": [
    "df = pd.read_excel('DOE_2k.xlsx')\n",
    "df"
   ]
  },
  {
   "cell_type": "code",
   "execution_count": 3,
   "metadata": {},
   "outputs": [
    {
     "data": {
      "text/html": [
       "<table class=\"simpletable\">\n",
       "<caption>OLS Regression Results</caption>\n",
       "<tr>\n",
       "  <th>Dep. Variable:</th>         <td>runtime</td>     <th>  R-squared:         </th> <td>   0.297</td>\n",
       "</tr>\n",
       "<tr>\n",
       "  <th>Model:</th>                   <td>OLS</td>       <th>  Adj. R-squared:    </th> <td>   0.288</td>\n",
       "</tr>\n",
       "<tr>\n",
       "  <th>Method:</th>             <td>Least Squares</td>  <th>  F-statistic:       </th> <td>   33.01</td>\n",
       "</tr>\n",
       "<tr>\n",
       "  <th>Date:</th>             <td>Wed, 16 Mar 2022</td> <th>  Prob (F-statistic):</th> <td>1.69e-07</td>\n",
       "</tr>\n",
       "<tr>\n",
       "  <th>Time:</th>                 <td>15:11:23</td>     <th>  Log-Likelihood:    </th> <td> -465.61</td>\n",
       "</tr>\n",
       "<tr>\n",
       "  <th>No. Observations:</th>      <td>    80</td>      <th>  AIC:               </th> <td>   935.2</td>\n",
       "</tr>\n",
       "<tr>\n",
       "  <th>Df Residuals:</th>          <td>    78</td>      <th>  BIC:               </th> <td>   940.0</td>\n",
       "</tr>\n",
       "<tr>\n",
       "  <th>Df Model:</th>              <td>     1</td>      <th>                     </th>     <td> </td>   \n",
       "</tr>\n",
       "<tr>\n",
       "  <th>Covariance Type:</th>      <td>nonrobust</td>    <th>                     </th>     <td> </td>   \n",
       "</tr>\n",
       "</table>\n",
       "<table class=\"simpletable\">\n",
       "<tr>\n",
       "                 <td></td>                   <th>coef</th>     <th>std err</th>      <th>t</th>      <th>P>|t|</th>  <th>[0.025</th>    <th>0.975]</th>  \n",
       "</tr>\n",
       "<tr>\n",
       "  <th>Intercept</th>                      <td>  116.1843</td> <td>   13.058</td> <td>    8.898</td> <td> 0.000</td> <td>   90.188</td> <td>  142.181</td>\n",
       "</tr>\n",
       "<tr>\n",
       "  <th>C(type_model)[T.cluster_model]</th> <td> -106.0947</td> <td>   18.467</td> <td>   -5.745</td> <td> 0.000</td> <td> -142.859</td> <td>  -69.330</td>\n",
       "</tr>\n",
       "</table>\n",
       "<table class=\"simpletable\">\n",
       "<tr>\n",
       "  <th>Omnibus:</th>       <td>24.222</td> <th>  Durbin-Watson:     </th> <td>   1.988</td>\n",
       "</tr>\n",
       "<tr>\n",
       "  <th>Prob(Omnibus):</th> <td> 0.000</td> <th>  Jarque-Bera (JB):  </th> <td>  33.142</td>\n",
       "</tr>\n",
       "<tr>\n",
       "  <th>Skew:</th>          <td> 1.396</td> <th>  Prob(JB):          </th> <td>6.36e-08</td>\n",
       "</tr>\n",
       "<tr>\n",
       "  <th>Kurtosis:</th>      <td> 4.465</td> <th>  Cond. No.          </th> <td>    2.62</td>\n",
       "</tr>\n",
       "</table><br/><br/>Notes:<br/>[1] Standard Errors assume that the covariance matrix of the errors is correctly specified."
      ],
      "text/plain": [
       "<class 'statsmodels.iolib.summary.Summary'>\n",
       "\"\"\"\n",
       "                            OLS Regression Results                            \n",
       "==============================================================================\n",
       "Dep. Variable:                runtime   R-squared:                       0.297\n",
       "Model:                            OLS   Adj. R-squared:                  0.288\n",
       "Method:                 Least Squares   F-statistic:                     33.01\n",
       "Date:                Wed, 16 Mar 2022   Prob (F-statistic):           1.69e-07\n",
       "Time:                        15:11:23   Log-Likelihood:                -465.61\n",
       "No. Observations:                  80   AIC:                             935.2\n",
       "Df Residuals:                      78   BIC:                             940.0\n",
       "Df Model:                           1                                         \n",
       "Covariance Type:            nonrobust                                         \n",
       "==================================================================================================\n",
       "                                     coef    std err          t      P>|t|      [0.025      0.975]\n",
       "--------------------------------------------------------------------------------------------------\n",
       "Intercept                        116.1843     13.058      8.898      0.000      90.188     142.181\n",
       "C(type_model)[T.cluster_model]  -106.0947     18.467     -5.745      0.000    -142.859     -69.330\n",
       "==============================================================================\n",
       "Omnibus:                       24.222   Durbin-Watson:                   1.988\n",
       "Prob(Omnibus):                  0.000   Jarque-Bera (JB):               33.142\n",
       "Skew:                           1.396   Prob(JB):                     6.36e-08\n",
       "Kurtosis:                       4.465   Cond. No.                         2.62\n",
       "==============================================================================\n",
       "\n",
       "Notes:\n",
       "[1] Standard Errors assume that the covariance matrix of the errors is correctly specified.\n",
       "\"\"\""
      ]
     },
     "execution_count": 3,
     "metadata": {},
     "output_type": "execute_result"
    }
   ],
   "source": [
    "formula = 'runtime ~ C(type_model)'\n",
    "modelo = ols(formula = formula, data=df).fit()\n",
    "modelo.summary()"
   ]
  },
  {
   "cell_type": "code",
   "execution_count": 4,
   "metadata": {},
   "outputs": [
    {
     "data": {
      "text/html": [
       "<div>\n",
       "<style scoped>\n",
       "    .dataframe tbody tr th:only-of-type {\n",
       "        vertical-align: middle;\n",
       "    }\n",
       "\n",
       "    .dataframe tbody tr th {\n",
       "        vertical-align: top;\n",
       "    }\n",
       "\n",
       "    .dataframe thead th {\n",
       "        text-align: right;\n",
       "    }\n",
       "</style>\n",
       "<table border=\"1\" class=\"dataframe\">\n",
       "  <thead>\n",
       "    <tr style=\"text-align: right;\">\n",
       "      <th></th>\n",
       "      <th>df</th>\n",
       "      <th>sum_sq</th>\n",
       "      <th>mean_sq</th>\n",
       "      <th>F</th>\n",
       "      <th>PR(&gt;F)</th>\n",
       "    </tr>\n",
       "  </thead>\n",
       "  <tbody>\n",
       "    <tr>\n",
       "      <th>C(type_model)</th>\n",
       "      <td>1.0</td>\n",
       "      <td>225121.521000</td>\n",
       "      <td>225121.521000</td>\n",
       "      <td>33.007269</td>\n",
       "      <td>1.693714e-07</td>\n",
       "    </tr>\n",
       "    <tr>\n",
       "      <th>Residual</th>\n",
       "      <td>78.0</td>\n",
       "      <td>531988.223955</td>\n",
       "      <td>6820.361846</td>\n",
       "      <td>NaN</td>\n",
       "      <td>NaN</td>\n",
       "    </tr>\n",
       "  </tbody>\n",
       "</table>\n",
       "</div>"
      ],
      "text/plain": [
       "                 df         sum_sq        mean_sq          F        PR(>F)\n",
       "C(type_model)   1.0  225121.521000  225121.521000  33.007269  1.693714e-07\n",
       "Residual       78.0  531988.223955    6820.361846        NaN           NaN"
      ]
     },
     "execution_count": 4,
     "metadata": {},
     "output_type": "execute_result"
    }
   ],
   "source": [
    "anova = anova_lm(modelo)\n",
    "anova"
   ]
  },
  {
   "cell_type": "code",
   "execution_count": 5,
   "metadata": {},
   "outputs": [
    {
     "data": {
      "text/plain": [
       "array(['base_model', 'cluster_model'], dtype=object)"
      ]
     },
     "execution_count": 5,
     "metadata": {},
     "output_type": "execute_result"
    }
   ],
   "source": [
    "df.type_model.unique()"
   ]
  },
  {
   "cell_type": "code",
   "execution_count": 6,
   "metadata": {},
   "outputs": [
    {
     "data": {
      "text/plain": [
       "8.68"
      ]
     },
     "execution_count": 6,
     "metadata": {},
     "output_type": "execute_result"
    }
   ],
   "source": [
    "round((df[df.type_model=='cluster_model'].runtime.mean()/df[df.type_model=='base_model'].runtime.mean())*100, 2)"
   ]
  },
  {
   "cell_type": "markdown",
   "metadata": {},
   "source": [
    "## Análisis premilinar: Nos interesa saber cuáles son los factores que afectan al tiempo $2 ^ K$"
   ]
  },
  {
   "cell_type": "code",
   "execution_count": 7,
   "metadata": {},
   "outputs": [
    {
     "data": {
      "text/html": [
       "<div>\n",
       "<style scoped>\n",
       "    .dataframe tbody tr th:only-of-type {\n",
       "        vertical-align: middle;\n",
       "    }\n",
       "\n",
       "    .dataframe tbody tr th {\n",
       "        vertical-align: top;\n",
       "    }\n",
       "\n",
       "    .dataframe thead th {\n",
       "        text-align: right;\n",
       "    }\n",
       "</style>\n",
       "<table border=\"1\" class=\"dataframe\">\n",
       "  <thead>\n",
       "    <tr style=\"text-align: right;\">\n",
       "      <th></th>\n",
       "      <th>df</th>\n",
       "      <th>sum_sq</th>\n",
       "      <th>mean_sq</th>\n",
       "      <th>F</th>\n",
       "      <th>PR(&gt;F)</th>\n",
       "    </tr>\n",
       "  </thead>\n",
       "  <tbody>\n",
       "    <tr>\n",
       "      <th>C(size)</th>\n",
       "      <td>1.0</td>\n",
       "      <td>117818.141802</td>\n",
       "      <td>117818.141802</td>\n",
       "      <td>4683.611843</td>\n",
       "      <td>2.880898e-67</td>\n",
       "    </tr>\n",
       "    <tr>\n",
       "      <th>C(function)</th>\n",
       "      <td>1.0</td>\n",
       "      <td>109866.563267</td>\n",
       "      <td>109866.563267</td>\n",
       "      <td>4367.513602</td>\n",
       "      <td>3.428590e-66</td>\n",
       "    </tr>\n",
       "    <tr>\n",
       "      <th>C(type_model)</th>\n",
       "      <td>1.0</td>\n",
       "      <td>225121.521000</td>\n",
       "      <td>225121.521000</td>\n",
       "      <td>8949.231465</td>\n",
       "      <td>2.804522e-77</td>\n",
       "    </tr>\n",
       "    <tr>\n",
       "      <th>C(size):C(function)</th>\n",
       "      <td>1.0</td>\n",
       "      <td>39114.573570</td>\n",
       "      <td>39114.573570</td>\n",
       "      <td>1554.917411</td>\n",
       "      <td>1.722405e-50</td>\n",
       "    </tr>\n",
       "    <tr>\n",
       "      <th>C(type_model):C(size)</th>\n",
       "      <td>1.0</td>\n",
       "      <td>116037.430534</td>\n",
       "      <td>116037.430534</td>\n",
       "      <td>4612.823420</td>\n",
       "      <td>4.943690e-67</td>\n",
       "    </tr>\n",
       "    <tr>\n",
       "      <th>C(type_model):C(function)</th>\n",
       "      <td>1.0</td>\n",
       "      <td>106754.865486</td>\n",
       "      <td>106754.865486</td>\n",
       "      <td>4243.814616</td>\n",
       "      <td>9.484825e-66</td>\n",
       "    </tr>\n",
       "    <tr>\n",
       "      <th>C(type_model):C(size):C(function)</th>\n",
       "      <td>1.0</td>\n",
       "      <td>40585.460304</td>\n",
       "      <td>40585.460304</td>\n",
       "      <td>1613.389412</td>\n",
       "      <td>4.827757e-51</td>\n",
       "    </tr>\n",
       "    <tr>\n",
       "      <th>Residual</th>\n",
       "      <td>72.0</td>\n",
       "      <td>1811.188991</td>\n",
       "      <td>25.155403</td>\n",
       "      <td>NaN</td>\n",
       "      <td>NaN</td>\n",
       "    </tr>\n",
       "  </tbody>\n",
       "</table>\n",
       "</div>"
      ],
      "text/plain": [
       "                                     df         sum_sq        mean_sq  \\\n",
       "C(size)                             1.0  117818.141802  117818.141802   \n",
       "C(function)                         1.0  109866.563267  109866.563267   \n",
       "C(type_model)                       1.0  225121.521000  225121.521000   \n",
       "C(size):C(function)                 1.0   39114.573570   39114.573570   \n",
       "C(type_model):C(size)               1.0  116037.430534  116037.430534   \n",
       "C(type_model):C(function)           1.0  106754.865486  106754.865486   \n",
       "C(type_model):C(size):C(function)   1.0   40585.460304   40585.460304   \n",
       "Residual                           72.0    1811.188991      25.155403   \n",
       "\n",
       "                                             F        PR(>F)  \n",
       "C(size)                            4683.611843  2.880898e-67  \n",
       "C(function)                        4367.513602  3.428590e-66  \n",
       "C(type_model)                      8949.231465  2.804522e-77  \n",
       "C(size):C(function)                1554.917411  1.722405e-50  \n",
       "C(type_model):C(size)              4612.823420  4.943690e-67  \n",
       "C(type_model):C(function)          4243.814616  9.484825e-66  \n",
       "C(type_model):C(size):C(function)  1613.389412  4.827757e-51  \n",
       "Residual                                   NaN           NaN  "
      ]
     },
     "execution_count": 7,
     "metadata": {},
     "output_type": "execute_result"
    }
   ],
   "source": [
    "formula = 'runtime ~ C(size) + C(function) + C(type_model) + C(size):C(function) + C(type_model):C(size) + C(type_model):C(function) + C(type_model):C(size):C(function)'\n",
    "modelo = ols(formula = formula, data=df).fit()\n",
    "anova = anova_lm(modelo)\n",
    "anova"
   ]
  },
  {
   "cell_type": "code",
   "execution_count": 8,
   "metadata": {},
   "outputs": [
    {
     "data": {
      "text/plain": [
       "<matplotlib.legend.Legend at 0x1f7bfe5a8b0>"
      ]
     },
     "execution_count": 8,
     "metadata": {},
     "output_type": "execute_result"
    },
    {
     "data": {
      "image/png": "[encoded data removed]",
      "text/plain": [
       "<Figure size 432x288 with 1 Axes>"
      ]
     },
     "metadata": {
      "needs_background": "light"
     },
     "output_type": "display_data"
    }
   ],
   "source": [
    "interaction_plot(df['size']**2, df['function'], df['runtime']);\n",
    "plt.ylabel(\"Run Time Mean\")\n",
    "plt.xlabel(\"Blocks\")\n",
    "plt.title(\"Function vs Blocks\")\n",
    "plt.legend()"
   ]
  },
  {
   "cell_type": "code",
   "execution_count": 9,
   "metadata": {},
   "outputs": [
    {
     "data": {
      "text/plain": [
       "<matplotlib.legend.Legend at 0x1f7bbda9cd0>"
      ]
     },
     "execution_count": 9,
     "metadata": {},
     "output_type": "execute_result"
    },
    {
     "data": {
      "image/png": "[encoded data removed]",
      "text/plain": [
       "<Figure size 432x288 with 1 Axes>"
      ]
     },
     "metadata": {
      "needs_background": "light"
     },
     "output_type": "display_data"
    }
   ],
   "source": [
    "interaction_plot(df['size'], df['type_model'], df['runtime']);\n",
    "plt.ylabel(\"Run Time Mean\")\n",
    "plt.xlabel(\"Blocks\")\n",
    "plt.title(\"Type_model vs Blocks\")\n",
    "plt.legend()"
   ]
  },
  {
   "cell_type": "code",
   "execution_count": 10,
   "metadata": {},
   "outputs": [
    {
     "data": {
      "text/plain": [
       "<matplotlib.legend.Legend at 0x1f7bbe3d310>"
      ]
     },
     "execution_count": 10,
     "metadata": {},
     "output_type": "execute_result"
    },
    {
     "data": {
      "image/png": "[encoded data removed]",
      "text/plain": [
       "<Figure size 432x288 with 1 Axes>"
      ]
     },
     "metadata": {
      "needs_background": "light"
     },
     "output_type": "display_data"
    }
   ],
   "source": [
    "interaction_plot(df['type_model'], df['function'], df['runtime']);\n",
    "plt.ylabel(\"Run Time Mean\")\n",
    "plt.xlabel(\"Type_model\")\n",
    "plt.title(\"Function vs Type_Model\")\n",
    "plt.legend()"
   ]
  },
  {
   "cell_type": "markdown",
   "metadata": {},
   "source": [
    "### Factores que importan ($\\alpha=0.05$, confianza=95%): \n",
    "* Size\n",
    "* Function"
   ]
  },
  {
   "cell_type": "code",
   "execution_count": 11,
   "metadata": {},
   "outputs": [
    {
     "ename": "FileNotFoundError",
     "evalue": "[Errno 2] No such file or directory: 'DOE_PLANIFICACION_COMPLETED.xlsx'",
     "output_type": "error",
     "traceback": [
      "\u001b[1;31m---------------------------------------------------------------------------\u001b[0m",
      "\u001b[1;31mFileNotFoundError\u001b[0m                         Traceback (most recent call last)",
      "\u001b[1;32m<ipython-input-11-5951d9dfd83f>\u001b[0m in \u001b[0;36m<module>\u001b[1;34m\u001b[0m\n\u001b[1;32m----> 1\u001b[1;33m \u001b[0mdf\u001b[0m \u001b[1;33m=\u001b[0m \u001b[0mpd\u001b[0m\u001b[1;33m.\u001b[0m\u001b[0mread_excel\u001b[0m\u001b[1;33m(\u001b[0m\u001b[1;34m'DOE_PLANIFICACION_COMPLETED.xlsx'\u001b[0m\u001b[1;33m)\u001b[0m\u001b[1;33m\u001b[0m\u001b[1;33m\u001b[0m\u001b[0m\n\u001b[0m\u001b[0;32m      2\u001b[0m \u001b[0mdf\u001b[0m\u001b[1;33m.\u001b[0m\u001b[0mhead\u001b[0m\u001b[1;33m(\u001b[0m\u001b[1;33m)\u001b[0m\u001b[1;33m\u001b[0m\u001b[1;33m\u001b[0m\u001b[0m\n",
      "\u001b[1;32m~\\anaconda3\\lib\\site-packages\\pandas\\util\\_decorators.py\u001b[0m in \u001b[0;36mwrapper\u001b[1;34m(*args, **kwargs)\u001b[0m\n\u001b[0;32m    297\u001b[0m                 )\n\u001b[0;32m    298\u001b[0m                 \u001b[0mwarnings\u001b[0m\u001b[1;33m.\u001b[0m\u001b[0mwarn\u001b[0m\u001b[1;33m(\u001b[0m\u001b[0mmsg\u001b[0m\u001b[1;33m,\u001b[0m \u001b[0mFutureWarning\u001b[0m\u001b[1;33m,\u001b[0m \u001b[0mstacklevel\u001b[0m\u001b[1;33m=\u001b[0m\u001b[0mstacklevel\u001b[0m\u001b[1;33m)\u001b[0m\u001b[1;33m\u001b[0m\u001b[1;33m\u001b[0m\u001b[0m\n\u001b[1;32m--> 299\u001b[1;33m             \u001b[1;32mreturn\u001b[0m \u001b[0mfunc\u001b[0m\u001b[1;33m(\u001b[0m\u001b[1;33m*\u001b[0m\u001b[0margs\u001b[0m\u001b[1;33m,\u001b[0m \u001b[1;33m**\u001b[0m\u001b[0mkwargs\u001b[0m\u001b[1;33m)\u001b[0m\u001b[1;33m\u001b[0m\u001b[1;33m\u001b[0m\u001b[0m\n\u001b[0m\u001b[0;32m    300\u001b[0m \u001b[1;33m\u001b[0m\u001b[0m\n\u001b[0;32m    301\u001b[0m         \u001b[1;32mreturn\u001b[0m \u001b[0mwrapper\u001b[0m\u001b[1;33m\u001b[0m\u001b[1;33m\u001b[0m\u001b[0m\n",
      "\u001b[1;32m~\\anaconda3\\lib\\site-packages\\pandas\\io\\excel\\_base.py\u001b[0m in \u001b[0;36mread_excel\u001b[1;34m(io, sheet_name, header, names, index_col, usecols, squeeze, dtype, engine, converters, true_values, false_values, skiprows, nrows, na_values, keep_default_na, na_filter, verbose, parse_dates, date_parser, thousands, comment, skipfooter, convert_float, mangle_dupe_cols, storage_options)\u001b[0m\n\u001b[0;32m    334\u001b[0m     \u001b[1;32mif\u001b[0m \u001b[1;32mnot\u001b[0m \u001b[0misinstance\u001b[0m\u001b[1;33m(\u001b[0m\u001b[0mio\u001b[0m\u001b[1;33m,\u001b[0m \u001b[0mExcelFile\u001b[0m\u001b[1;33m)\u001b[0m\u001b[1;33m:\u001b[0m\u001b[1;33m\u001b[0m\u001b[1;33m\u001b[0m\u001b[0m\n\u001b[0;32m    335\u001b[0m         \u001b[0mshould_close\u001b[0m \u001b[1;33m=\u001b[0m \u001b[1;32mTrue\u001b[0m\u001b[1;33m\u001b[0m\u001b[1;33m\u001b[0m\u001b[0m\n\u001b[1;32m--> 336\u001b[1;33m         \u001b[0mio\u001b[0m \u001b[1;33m=\u001b[0m \u001b[0mExcelFile\u001b[0m\u001b[1;33m(\u001b[0m\u001b[0mio\u001b[0m\u001b[1;33m,\u001b[0m \u001b[0mstorage_options\u001b[0m\u001b[1;33m=\u001b[0m\u001b[0mstorage_options\u001b[0m\u001b[1;33m,\u001b[0m \u001b[0mengine\u001b[0m\u001b[1;33m=\u001b[0m\u001b[0mengine\u001b[0m\u001b[1;33m)\u001b[0m\u001b[1;33m\u001b[0m\u001b[1;33m\u001b[0m\u001b[0m\n\u001b[0m\u001b[0;32m    337\u001b[0m     \u001b[1;32melif\u001b[0m \u001b[0mengine\u001b[0m \u001b[1;32mand\u001b[0m \u001b[0mengine\u001b[0m \u001b[1;33m!=\u001b[0m \u001b[0mio\u001b[0m\u001b[1;33m.\u001b[0m\u001b[0mengine\u001b[0m\u001b[1;33m:\u001b[0m\u001b[1;33m\u001b[0m\u001b[1;33m\u001b[0m\u001b[0m\n\u001b[0;32m    338\u001b[0m         raise ValueError(\n",
      "\u001b[1;32m~\\anaconda3\\lib\\site-packages\\pandas\\io\\excel\\_base.py\u001b[0m in \u001b[0;36m__init__\u001b[1;34m(self, path_or_buffer, engine, storage_options)\u001b[0m\n\u001b[0;32m   1069\u001b[0m                 \u001b[0mext\u001b[0m \u001b[1;33m=\u001b[0m \u001b[1;34m\"xls\"\u001b[0m\u001b[1;33m\u001b[0m\u001b[1;33m\u001b[0m\u001b[0m\n\u001b[0;32m   1070\u001b[0m             \u001b[1;32melse\u001b[0m\u001b[1;33m:\u001b[0m\u001b[1;33m\u001b[0m\u001b[1;33m\u001b[0m\u001b[0m\n\u001b[1;32m-> 1071\u001b[1;33m                 ext = inspect_excel_format(\n\u001b[0m\u001b[0;32m   1072\u001b[0m                     \u001b[0mcontent\u001b[0m\u001b[1;33m=\u001b[0m\u001b[0mpath_or_buffer\u001b[0m\u001b[1;33m,\u001b[0m \u001b[0mstorage_options\u001b[0m\u001b[1;33m=\u001b[0m\u001b[0mstorage_options\u001b[0m\u001b[1;33m\u001b[0m\u001b[1;33m\u001b[0m\u001b[0m\n\u001b[0;32m   1073\u001b[0m                 )\n",
      "\u001b[1;32m~\\anaconda3\\lib\\site-packages\\pandas\\io\\excel\\_base.py\u001b[0m in \u001b[0;36minspect_excel_format\u001b[1;34m(path, content, storage_options)\u001b[0m\n\u001b[0;32m    947\u001b[0m     \u001b[1;32massert\u001b[0m \u001b[0mcontent_or_path\u001b[0m \u001b[1;32mis\u001b[0m \u001b[1;32mnot\u001b[0m \u001b[1;32mNone\u001b[0m\u001b[1;33m\u001b[0m\u001b[1;33m\u001b[0m\u001b[0m\n\u001b[0;32m    948\u001b[0m \u001b[1;33m\u001b[0m\u001b[0m\n\u001b[1;32m--> 949\u001b[1;33m     with get_handle(\n\u001b[0m\u001b[0;32m    950\u001b[0m         \u001b[0mcontent_or_path\u001b[0m\u001b[1;33m,\u001b[0m \u001b[1;34m\"rb\"\u001b[0m\u001b[1;33m,\u001b[0m \u001b[0mstorage_options\u001b[0m\u001b[1;33m=\u001b[0m\u001b[0mstorage_options\u001b[0m\u001b[1;33m,\u001b[0m \u001b[0mis_text\u001b[0m\u001b[1;33m=\u001b[0m\u001b[1;32mFalse\u001b[0m\u001b[1;33m\u001b[0m\u001b[1;33m\u001b[0m\u001b[0m\n\u001b[0;32m    951\u001b[0m     ) as handle:\n",
      "\u001b[1;32m~\\anaconda3\\lib\\site-packages\\pandas\\io\\common.py\u001b[0m in \u001b[0;36mget_handle\u001b[1;34m(path_or_buf, mode, encoding, compression, memory_map, is_text, errors, storage_options)\u001b[0m\n\u001b[0;32m    649\u001b[0m         \u001b[1;32melse\u001b[0m\u001b[1;33m:\u001b[0m\u001b[1;33m\u001b[0m\u001b[1;33m\u001b[0m\u001b[0m\n\u001b[0;32m    650\u001b[0m             \u001b[1;31m# Binary mode\u001b[0m\u001b[1;33m\u001b[0m\u001b[1;33m\u001b[0m\u001b[1;33m\u001b[0m\u001b[0m\n\u001b[1;32m--> 651\u001b[1;33m             \u001b[0mhandle\u001b[0m \u001b[1;33m=\u001b[0m \u001b[0mopen\u001b[0m\u001b[1;33m(\u001b[0m\u001b[0mhandle\u001b[0m\u001b[1;33m,\u001b[0m \u001b[0mioargs\u001b[0m\u001b[1;33m.\u001b[0m\u001b[0mmode\u001b[0m\u001b[1;33m)\u001b[0m\u001b[1;33m\u001b[0m\u001b[1;33m\u001b[0m\u001b[0m\n\u001b[0m\u001b[0;32m    652\u001b[0m         \u001b[0mhandles\u001b[0m\u001b[1;33m.\u001b[0m\u001b[0mappend\u001b[0m\u001b[1;33m(\u001b[0m\u001b[0mhandle\u001b[0m\u001b[1;33m)\u001b[0m\u001b[1;33m\u001b[0m\u001b[1;33m\u001b[0m\u001b[0m\n\u001b[0;32m    653\u001b[0m \u001b[1;33m\u001b[0m\u001b[0m\n",
      "\u001b[1;31mFileNotFoundError\u001b[0m: [Errno 2] No such file or directory: 'DOE_PLANIFICACION_COMPLETED.xlsx'"
     ]
    }
   ],
   "source": [
    "df = pd.read_excel('DOE_PLANIFICACION_COMPLETED.xlsx')\n",
    "df.head()"
   ]
  },
  {
   "cell_type": "code",
   "execution_count": 12,
   "metadata": {},
   "outputs": [
    {
     "data": {
      "text/plain": [
       "80"
      ]
     },
     "execution_count": 12,
     "metadata": {},
     "output_type": "execute_result"
    }
   ],
   "source": [
    "df = df[df.infactible==False].copy()\n",
    "len(df)"
   ]
  },
  {
   "cell_type": "code",
   "execution_count": 13,
   "metadata": {},
   "outputs": [
    {
     "data": {
      "text/html": [
       "<div>\n",
       "<style scoped>\n",
       "    .dataframe tbody tr th:only-of-type {\n",
       "        vertical-align: middle;\n",
       "    }\n",
       "\n",
       "    .dataframe tbody tr th {\n",
       "        vertical-align: top;\n",
       "    }\n",
       "\n",
       "    .dataframe thead th {\n",
       "        text-align: right;\n",
       "    }\n",
       "</style>\n",
       "<table border=\"1\" class=\"dataframe\">\n",
       "  <thead>\n",
       "    <tr style=\"text-align: right;\">\n",
       "      <th></th>\n",
       "      <th>df</th>\n",
       "      <th>sum_sq</th>\n",
       "      <th>mean_sq</th>\n",
       "      <th>F</th>\n",
       "      <th>PR(&gt;F)</th>\n",
       "    </tr>\n",
       "  </thead>\n",
       "  <tbody>\n",
       "    <tr>\n",
       "      <th>C(function)</th>\n",
       "      <td>1.0</td>\n",
       "      <td>109866.563267</td>\n",
       "      <td>109866.563267</td>\n",
       "      <td>4367.513602</td>\n",
       "      <td>3.428590e-66</td>\n",
       "    </tr>\n",
       "    <tr>\n",
       "      <th>C(size)</th>\n",
       "      <td>1.0</td>\n",
       "      <td>117818.141802</td>\n",
       "      <td>117818.141802</td>\n",
       "      <td>4683.611843</td>\n",
       "      <td>2.880898e-67</td>\n",
       "    </tr>\n",
       "    <tr>\n",
       "      <th>C(type_model)</th>\n",
       "      <td>1.0</td>\n",
       "      <td>225121.521000</td>\n",
       "      <td>225121.521000</td>\n",
       "      <td>8949.231465</td>\n",
       "      <td>2.804522e-77</td>\n",
       "    </tr>\n",
       "    <tr>\n",
       "      <th>C(function):C(size)</th>\n",
       "      <td>1.0</td>\n",
       "      <td>39114.573570</td>\n",
       "      <td>39114.573570</td>\n",
       "      <td>1554.917411</td>\n",
       "      <td>1.722405e-50</td>\n",
       "    </tr>\n",
       "    <tr>\n",
       "      <th>C(function):C(type_model)</th>\n",
       "      <td>1.0</td>\n",
       "      <td>106754.865486</td>\n",
       "      <td>106754.865486</td>\n",
       "      <td>4243.814616</td>\n",
       "      <td>9.484825e-66</td>\n",
       "    </tr>\n",
       "    <tr>\n",
       "      <th>C(size):C(type_model)</th>\n",
       "      <td>1.0</td>\n",
       "      <td>116037.430534</td>\n",
       "      <td>116037.430534</td>\n",
       "      <td>4612.823420</td>\n",
       "      <td>4.943690e-67</td>\n",
       "    </tr>\n",
       "    <tr>\n",
       "      <th>C(size):C(type_model):C(function)</th>\n",
       "      <td>1.0</td>\n",
       "      <td>40585.460304</td>\n",
       "      <td>40585.460304</td>\n",
       "      <td>1613.389412</td>\n",
       "      <td>4.827757e-51</td>\n",
       "    </tr>\n",
       "    <tr>\n",
       "      <th>Residual</th>\n",
       "      <td>72.0</td>\n",
       "      <td>1811.188991</td>\n",
       "      <td>25.155403</td>\n",
       "      <td>NaN</td>\n",
       "      <td>NaN</td>\n",
       "    </tr>\n",
       "  </tbody>\n",
       "</table>\n",
       "</div>"
      ],
      "text/plain": [
       "                                     df         sum_sq        mean_sq  \\\n",
       "C(function)                         1.0  109866.563267  109866.563267   \n",
       "C(size)                             1.0  117818.141802  117818.141802   \n",
       "C(type_model)                       1.0  225121.521000  225121.521000   \n",
       "C(function):C(size)                 1.0   39114.573570   39114.573570   \n",
       "C(function):C(type_model)           1.0  106754.865486  106754.865486   \n",
       "C(size):C(type_model)               1.0  116037.430534  116037.430534   \n",
       "C(size):C(type_model):C(function)   1.0   40585.460304   40585.460304   \n",
       "Residual                           72.0    1811.188991      25.155403   \n",
       "\n",
       "                                             F        PR(>F)  \n",
       "C(function)                        4367.513602  3.428590e-66  \n",
       "C(size)                            4683.611843  2.880898e-67  \n",
       "C(type_model)                      8949.231465  2.804522e-77  \n",
       "C(function):C(size)                1554.917411  1.722405e-50  \n",
       "C(function):C(type_model)          4243.814616  9.484825e-66  \n",
       "C(size):C(type_model)              4612.823420  4.943690e-67  \n",
       "C(size):C(type_model):C(function)  1613.389412  4.827757e-51  \n",
       "Residual                                   NaN           NaN  "
      ]
     },
     "execution_count": 13,
     "metadata": {},
     "output_type": "execute_result"
    }
   ],
   "source": [
    "formula = 'runtime ~ C(function) + C(size) + C(type_model) + C(function):C(size) + C(function):C(type_model) + C(size):C(type_model) + C(size):C(type_model):C(function)'\n",
    "modelo = ols(formula=formula, data=df).fit()\n",
    "anova = anova_lm(modelo)\n",
    "anova"
   ]
  },
  {
   "cell_type": "code",
   "execution_count": 14,
   "metadata": {},
   "outputs": [
    {
     "ename": "ValueError",
     "evalue": "The lengths of the data (2) and the error 1 do not match",
     "output_type": "error",
     "traceback": [
      "\u001b[1;31m---------------------------------------------------------------------------\u001b[0m",
      "\u001b[1;31mValueError\u001b[0m                                Traceback (most recent call last)",
      "\u001b[1;32m<ipython-input-14-6ff8b0d86c30>\u001b[0m in \u001b[0;36m<module>\u001b[1;34m\u001b[0m\n\u001b[0;32m      1\u001b[0m \u001b[0mcomp\u001b[0m \u001b[1;33m=\u001b[0m \u001b[0mpairwise_tukeyhsd\u001b[0m\u001b[1;33m(\u001b[0m\u001b[0mdf\u001b[0m\u001b[1;33m[\u001b[0m\u001b[1;34m'runtime'\u001b[0m\u001b[1;33m]\u001b[0m\u001b[1;33m,\u001b[0m \u001b[0mdf\u001b[0m\u001b[1;33m[\u001b[0m\u001b[1;34m'size'\u001b[0m\u001b[1;33m]\u001b[0m\u001b[1;33m**\u001b[0m\u001b[1;36m2\u001b[0m\u001b[1;33m)\u001b[0m\u001b[1;33m\u001b[0m\u001b[1;33m\u001b[0m\u001b[0m\n\u001b[1;32m----> 2\u001b[1;33m \u001b[0mcomp\u001b[0m\u001b[1;33m.\u001b[0m\u001b[0mplot_simultaneous\u001b[0m\u001b[1;33m(\u001b[0m\u001b[0mfigsize\u001b[0m\u001b[1;33m=\u001b[0m\u001b[1;33m(\u001b[0m\u001b[1;36m8\u001b[0m\u001b[1;33m,\u001b[0m\u001b[1;36m5\u001b[0m\u001b[1;33m)\u001b[0m\u001b[1;33m)\u001b[0m\u001b[1;33m\u001b[0m\u001b[1;33m\u001b[0m\u001b[0m\n\u001b[0m\u001b[0;32m      3\u001b[0m \u001b[0mplt\u001b[0m\u001b[1;33m.\u001b[0m\u001b[0mtitle\u001b[0m\u001b[1;33m(\u001b[0m\u001b[1;34m'Comparison IC runtimes'\u001b[0m\u001b[1;33m)\u001b[0m\u001b[1;33m\u001b[0m\u001b[1;33m\u001b[0m\u001b[0m\n\u001b[0;32m      4\u001b[0m \u001b[0mplt\u001b[0m\u001b[1;33m.\u001b[0m\u001b[0mylabel\u001b[0m\u001b[1;33m(\u001b[0m\u001b[1;34m'Blocks'\u001b[0m\u001b[1;33m)\u001b[0m\u001b[1;33m\u001b[0m\u001b[1;33m\u001b[0m\u001b[0m\n\u001b[0;32m      5\u001b[0m \u001b[0mplt\u001b[0m\u001b[1;33m.\u001b[0m\u001b[0mxlabel\u001b[0m\u001b[1;33m(\u001b[0m\u001b[1;34m'IC 95% runtimes'\u001b[0m\u001b[1;33m)\u001b[0m\u001b[1;33m\u001b[0m\u001b[1;33m\u001b[0m\u001b[0m\n",
      "\u001b[1;32m~\\anaconda3\\lib\\site-packages\\statsmodels\\sandbox\\stats\\multicomp.py\u001b[0m in \u001b[0;36mplot_simultaneous\u001b[1;34m(self, comparison_name, ax, figsize, xlabel, ylabel)\u001b[0m\n\u001b[0;32m    737\u001b[0m \u001b[1;33m\u001b[0m\u001b[0m\n\u001b[0;32m    738\u001b[0m         \u001b[1;32mif\u001b[0m \u001b[0mcomparison_name\u001b[0m \u001b[1;32mis\u001b[0m \u001b[1;32mNone\u001b[0m\u001b[1;33m:\u001b[0m\u001b[1;33m\u001b[0m\u001b[1;33m\u001b[0m\u001b[0m\n\u001b[1;32m--> 739\u001b[1;33m             ax1.errorbar(means, lrange(len(means)), xerr=self.halfwidths,\n\u001b[0m\u001b[0;32m    740\u001b[0m                          marker='o', linestyle='None', color='k', ecolor='k')\n\u001b[0;32m    741\u001b[0m         \u001b[1;32melse\u001b[0m\u001b[1;33m:\u001b[0m\u001b[1;33m\u001b[0m\u001b[1;33m\u001b[0m\u001b[0m\n",
      "\u001b[1;32m~\\anaconda3\\lib\\site-packages\\matplotlib\\__init__.py\u001b[0m in \u001b[0;36minner\u001b[1;34m(ax, data, *args, **kwargs)\u001b[0m\n\u001b[0;32m   1445\u001b[0m     \u001b[1;32mdef\u001b[0m \u001b[0minner\u001b[0m\u001b[1;33m(\u001b[0m\u001b[0max\u001b[0m\u001b[1;33m,\u001b[0m \u001b[1;33m*\u001b[0m\u001b[0margs\u001b[0m\u001b[1;33m,\u001b[0m \u001b[0mdata\u001b[0m\u001b[1;33m=\u001b[0m\u001b[1;32mNone\u001b[0m\u001b[1;33m,\u001b[0m \u001b[1;33m**\u001b[0m\u001b[0mkwargs\u001b[0m\u001b[1;33m)\u001b[0m\u001b[1;33m:\u001b[0m\u001b[1;33m\u001b[0m\u001b[1;33m\u001b[0m\u001b[0m\n\u001b[0;32m   1446\u001b[0m         \u001b[1;32mif\u001b[0m \u001b[0mdata\u001b[0m \u001b[1;32mis\u001b[0m \u001b[1;32mNone\u001b[0m\u001b[1;33m:\u001b[0m\u001b[1;33m\u001b[0m\u001b[1;33m\u001b[0m\u001b[0m\n\u001b[1;32m-> 1447\u001b[1;33m             \u001b[1;32mreturn\u001b[0m \u001b[0mfunc\u001b[0m\u001b[1;33m(\u001b[0m\u001b[0max\u001b[0m\u001b[1;33m,\u001b[0m \u001b[1;33m*\u001b[0m\u001b[0mmap\u001b[0m\u001b[1;33m(\u001b[0m\u001b[0msanitize_sequence\u001b[0m\u001b[1;33m,\u001b[0m \u001b[0margs\u001b[0m\u001b[1;33m)\u001b[0m\u001b[1;33m,\u001b[0m \u001b[1;33m**\u001b[0m\u001b[0mkwargs\u001b[0m\u001b[1;33m)\u001b[0m\u001b[1;33m\u001b[0m\u001b[1;33m\u001b[0m\u001b[0m\n\u001b[0m\u001b[0;32m   1448\u001b[0m \u001b[1;33m\u001b[0m\u001b[0m\n\u001b[0;32m   1449\u001b[0m         \u001b[0mbound\u001b[0m \u001b[1;33m=\u001b[0m \u001b[0mnew_sig\u001b[0m\u001b[1;33m.\u001b[0m\u001b[0mbind\u001b[0m\u001b[1;33m(\u001b[0m\u001b[0max\u001b[0m\u001b[1;33m,\u001b[0m \u001b[1;33m*\u001b[0m\u001b[0margs\u001b[0m\u001b[1;33m,\u001b[0m \u001b[1;33m**\u001b[0m\u001b[0mkwargs\u001b[0m\u001b[1;33m)\u001b[0m\u001b[1;33m\u001b[0m\u001b[1;33m\u001b[0m\u001b[0m\n",
      "\u001b[1;32m~\\anaconda3\\lib\\site-packages\\matplotlib\\axes\\_axes.py\u001b[0m in \u001b[0;36merrorbar\u001b[1;34m(self, x, y, yerr, xerr, fmt, ecolor, elinewidth, capsize, barsabove, lolims, uplims, xlolims, xuplims, errorevery, capthick, **kwargs)\u001b[0m\n\u001b[0;32m   3414\u001b[0m \u001b[1;33m\u001b[0m\u001b[0m\n\u001b[0;32m   3415\u001b[0m         \u001b[1;32mif\u001b[0m \u001b[0mxerr\u001b[0m \u001b[1;32mis\u001b[0m \u001b[1;32mnot\u001b[0m \u001b[1;32mNone\u001b[0m\u001b[1;33m:\u001b[0m\u001b[1;33m\u001b[0m\u001b[1;33m\u001b[0m\u001b[0m\n\u001b[1;32m-> 3416\u001b[1;33m             \u001b[0mleft\u001b[0m\u001b[1;33m,\u001b[0m \u001b[0mright\u001b[0m \u001b[1;33m=\u001b[0m \u001b[0mextract_err\u001b[0m\u001b[1;33m(\u001b[0m\u001b[1;34m'x'\u001b[0m\u001b[1;33m,\u001b[0m \u001b[0mxerr\u001b[0m\u001b[1;33m,\u001b[0m \u001b[0mx\u001b[0m\u001b[1;33m,\u001b[0m \u001b[0mxlolims\u001b[0m\u001b[1;33m,\u001b[0m \u001b[0mxuplims\u001b[0m\u001b[1;33m)\u001b[0m\u001b[1;33m\u001b[0m\u001b[1;33m\u001b[0m\u001b[0m\n\u001b[0m\u001b[0;32m   3417\u001b[0m             barcols.append(self.hlines(\n\u001b[0;32m   3418\u001b[0m                 *apply_mask([y, left, right], everymask), **eb_lines_style))\n",
      "\u001b[1;32m~\\anaconda3\\lib\\site-packages\\matplotlib\\axes\\_axes.py\u001b[0m in \u001b[0;36mextract_err\u001b[1;34m(name, err, data, lolims, uplims)\u001b[0m\n\u001b[0;32m   3406\u001b[0m             \u001b[1;32mfor\u001b[0m \u001b[0me\u001b[0m \u001b[1;32min\u001b[0m \u001b[1;33m[\u001b[0m\u001b[0ma\u001b[0m\u001b[1;33m,\u001b[0m \u001b[0mb\u001b[0m\u001b[1;33m]\u001b[0m\u001b[1;33m:\u001b[0m\u001b[1;33m\u001b[0m\u001b[1;33m\u001b[0m\u001b[0m\n\u001b[0;32m   3407\u001b[0m                 \u001b[1;32mif\u001b[0m \u001b[0mlen\u001b[0m\u001b[1;33m(\u001b[0m\u001b[0mdata\u001b[0m\u001b[1;33m)\u001b[0m \u001b[1;33m!=\u001b[0m \u001b[0mlen\u001b[0m\u001b[1;33m(\u001b[0m\u001b[0me\u001b[0m\u001b[1;33m)\u001b[0m\u001b[1;33m:\u001b[0m\u001b[1;33m\u001b[0m\u001b[1;33m\u001b[0m\u001b[0m\n\u001b[1;32m-> 3408\u001b[1;33m                     raise ValueError(\n\u001b[0m\u001b[0;32m   3409\u001b[0m                         \u001b[1;34mf\"The lengths of the data ({len(data)}) and the \"\u001b[0m\u001b[1;33m\u001b[0m\u001b[1;33m\u001b[0m\u001b[0m\n\u001b[0;32m   3410\u001b[0m                         f\"error {len(e)} do not match\")\n",
      "\u001b[1;31mValueError\u001b[0m: The lengths of the data (2) and the error 1 do not match"
     ]
    },
    {
     "data": {
      "image/png": "[encoded data removed]",
      "text/plain": [
       "<Figure size 576x360 with 1 Axes>"
      ]
     },
     "metadata": {
      "needs_background": "light"
     },
     "output_type": "display_data"
    }
   ],
   "source": [
    "comp = pairwise_tukeyhsd(df['runtime'], df['size']**2)\n",
    "comp.plot_simultaneous(figsize=(8,5))\n",
    "plt.title('Comparison IC runtimes')\n",
    "plt.ylabel('Blocks')\n",
    "plt.xlabel('IC 95% runtimes')\n",
    "plt.tight_layout()"
   ]
  },
  {
   "cell_type": "code",
   "execution_count": null,
   "metadata": {},
   "outputs": [],
   "source": [
    "df_gap = pd.read_excel('DOE_PLANIFICACION_COMPLETED_GAP.xlsx')\n",
    "df_gap.head(2)"
   ]
  },
  {
   "cell_type": "code",
   "execution_count": 15,
   "metadata": {},
   "outputs": [
    {
     "ename": "NameError",
     "evalue": "name 'df_gap' is not defined",
     "output_type": "error",
     "traceback": [
      "\u001b[1;31m---------------------------------------------------------------------------\u001b[0m",
      "\u001b[1;31mNameError\u001b[0m                                 Traceback (most recent call last)",
      "\u001b[1;32m<ipython-input-15-7c64bf2bd7fc>\u001b[0m in \u001b[0;36m<module>\u001b[1;34m\u001b[0m\n\u001b[1;32m----> 1\u001b[1;33m \u001b[0mdf_gap\u001b[0m \u001b[1;33m=\u001b[0m \u001b[0mdf_gap\u001b[0m\u001b[1;33m[\u001b[0m\u001b[1;33m(\u001b[0m\u001b[0mdf_gap\u001b[0m\u001b[1;33m.\u001b[0m\u001b[0minfactible_base\u001b[0m\u001b[1;33m==\u001b[0m\u001b[1;32mFalse\u001b[0m\u001b[1;33m)\u001b[0m\u001b[1;33m&\u001b[0m\u001b[1;33m(\u001b[0m\u001b[0mdf_gap\u001b[0m\u001b[1;33m.\u001b[0m\u001b[0minfactible_cluster\u001b[0m\u001b[1;33m==\u001b[0m\u001b[1;32mFalse\u001b[0m\u001b[1;33m)\u001b[0m\u001b[1;33m]\u001b[0m\u001b[1;33m\u001b[0m\u001b[1;33m\u001b[0m\u001b[0m\n\u001b[0m",
      "\u001b[1;31mNameError\u001b[0m: name 'df_gap' is not defined"
     ]
    }
   ],
   "source": [
    "df_gap = df_gap[(df_gap.infactible_base==False)&(df_gap.infactible_cluster==False)]"
   ]
  },
  {
   "cell_type": "code",
   "execution_count": 16,
   "metadata": {},
   "outputs": [
    {
     "ename": "NameError",
     "evalue": "name 'df_gap' is not defined",
     "output_type": "error",
     "traceback": [
      "\u001b[1;31m---------------------------------------------------------------------------\u001b[0m",
      "\u001b[1;31mNameError\u001b[0m                                 Traceback (most recent call last)",
      "\u001b[1;32m<ipython-input-16-9b2c0956c555>\u001b[0m in \u001b[0;36m<module>\u001b[1;34m\u001b[0m\n\u001b[1;32m----> 1\u001b[1;33m \u001b[0mcomp\u001b[0m \u001b[1;33m=\u001b[0m \u001b[0mpairwise_tukeyhsd\u001b[0m\u001b[1;33m(\u001b[0m\u001b[0mdf_gap\u001b[0m\u001b[1;33m[\u001b[0m\u001b[1;34m'gap'\u001b[0m\u001b[1;33m]\u001b[0m\u001b[1;33m,\u001b[0m \u001b[0mdf_gap\u001b[0m\u001b[1;33m[\u001b[0m\u001b[1;34m'function'\u001b[0m\u001b[1;33m]\u001b[0m\u001b[1;33m)\u001b[0m\u001b[1;33m\u001b[0m\u001b[1;33m\u001b[0m\u001b[0m\n\u001b[0m\u001b[0;32m      2\u001b[0m \u001b[0mcomp\u001b[0m\u001b[1;33m.\u001b[0m\u001b[0mplot_simultaneous\u001b[0m\u001b[1;33m(\u001b[0m\u001b[0mfigsize\u001b[0m\u001b[1;33m=\u001b[0m\u001b[1;33m(\u001b[0m\u001b[1;36m8\u001b[0m\u001b[1;33m,\u001b[0m\u001b[1;36m5\u001b[0m\u001b[1;33m)\u001b[0m\u001b[1;33m)\u001b[0m\u001b[1;33m\u001b[0m\u001b[1;33m\u001b[0m\u001b[0m\n\u001b[0;32m      3\u001b[0m \u001b[0mplt\u001b[0m\u001b[1;33m.\u001b[0m\u001b[0mtitle\u001b[0m\u001b[1;33m(\u001b[0m\u001b[1;34m'Comparison IC runtimes'\u001b[0m\u001b[1;33m)\u001b[0m\u001b[1;33m\u001b[0m\u001b[1;33m\u001b[0m\u001b[0m\n\u001b[0;32m      4\u001b[0m \u001b[0mplt\u001b[0m\u001b[1;33m.\u001b[0m\u001b[0mylabel\u001b[0m\u001b[1;33m(\u001b[0m\u001b[1;34m'Blocks'\u001b[0m\u001b[1;33m)\u001b[0m\u001b[1;33m\u001b[0m\u001b[1;33m\u001b[0m\u001b[0m\n\u001b[0;32m      5\u001b[0m \u001b[0mplt\u001b[0m\u001b[1;33m.\u001b[0m\u001b[0mxlabel\u001b[0m\u001b[1;33m(\u001b[0m\u001b[1;34m'IC 95% gap'\u001b[0m\u001b[1;33m)\u001b[0m\u001b[1;33m\u001b[0m\u001b[1;33m\u001b[0m\u001b[0m\n",
      "\u001b[1;31mNameError\u001b[0m: name 'df_gap' is not defined"
     ]
    }
   ],
   "source": [
    "comp = pairwise_tukeyhsd(df_gap['gap'], df_gap['function'])\n",
    "comp.plot_simultaneous(figsize=(8,5))\n",
    "plt.title('Comparison IC runtimes')\n",
    "plt.ylabel('Blocks')\n",
    "plt.xlabel('IC 95% gap')\n",
    "plt.tight_layout()"
   ]
  },
  {
   "cell_type": "code",
   "execution_count": 17,
   "metadata": {},
   "outputs": [
    {
     "ename": "NameError",
     "evalue": "name 'df_gap' is not defined",
     "output_type": "error",
     "traceback": [
      "\u001b[1;31m---------------------------------------------------------------------------\u001b[0m",
      "\u001b[1;31mNameError\u001b[0m                                 Traceback (most recent call last)",
      "\u001b[1;32m<ipython-input-17-b2a35870e672>\u001b[0m in \u001b[0;36m<module>\u001b[1;34m\u001b[0m\n\u001b[1;32m----> 1\u001b[1;33m \u001b[0mtype\u001b[0m\u001b[1;33m(\u001b[0m\u001b[0mdf_gap\u001b[0m\u001b[1;33m.\u001b[0m\u001b[0mgap\u001b[0m\u001b[1;33m.\u001b[0m\u001b[0miloc\u001b[0m\u001b[1;33m[\u001b[0m\u001b[1;36m0\u001b[0m\u001b[1;33m]\u001b[0m\u001b[1;33m)\u001b[0m\u001b[1;33m\u001b[0m\u001b[1;33m\u001b[0m\u001b[0m\n\u001b[0m",
      "\u001b[1;31mNameError\u001b[0m: name 'df_gap' is not defined"
     ]
    }
   ],
   "source": [
    "type(df_gap.gap.iloc[0])"
   ]
  },
  {
   "cell_type": "code",
   "execution_count": null,
   "metadata": {},
   "outputs": [],
   "source": []
  }
 ],
 "metadata": {
  "kernelspec": {
   "display_name": "Python 3",
   "language": "python",
   "name": "python3"
  },
  "language_info": {
   "codemirror_mode": {
    "name": "ipython",
    "version": 3
   },
   "file_extension": ".py",
   "mimetype": "text/x-python",
   "name": "python",
   "nbconvert_exporter": "python",
   "pygments_lexer": "ipython3",
   "version": "3.8.8"
  }
 },
 "nbformat": 4,
 "nbformat_minor": 4
}
